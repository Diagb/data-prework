{
 "cells": [
  {
   "cell_type": "markdown",
   "metadata": {},
   "source": [
    "<img src=\"https://bit.ly/2VnXWr2\" width=\"100\" align=\"left\">"
   ]
  },
  {
   "cell_type": "markdown",
   "metadata": {},
   "source": [
    "# Rock, Paper & Scissors\n",
    "\n",
    "Let's play the famous game against our computer. You can check the rules [here](https://en.wikipedia.org/wiki/Rock%E2%80%93paper%E2%80%93scissors). \n",
    "\n",
    "## Task\n",
    "Create a program that imitates the playability of the well known game of rock, paper, scissors. Follow the guidelines provided.\n",
    "\n",
    "## Tools\n",
    "1. Loop: **for/while**\n",
    "2. Functions: **input(), print()...**\n",
    "3. Conditional statements: **if, elif, else**\n",
    "4. Definition of functions. Modular programming\n",
    "5. Import modules\n",
    "\n",
    "**To solve this challenge, the use of functions is recommended.**\n",
    "\n",
    "#### 1. Import the choice function of the random module."
   ]
  },
  {
   "cell_type": "code",
   "execution_count": 1,
   "metadata": {},
   "outputs": [],
   "source": [
    "import random"
   ]
  },
  {
   "cell_type": "markdown",
   "metadata": {},
   "source": [
    "#### 2. Create a list that includes the 3 possible gesture options of the game: 'rock', 'paper' or 'scissors'. Store the list in a variable called `gestures`."
   ]
  },
  {
   "cell_type": "code",
   "execution_count": 2,
   "metadata": {},
   "outputs": [],
   "source": [
    "gestures=['rock','paper','scissors']"
   ]
  },
  {
   "cell_type": "markdown",
   "metadata": {},
   "source": [
    "#### 3. Create a variable called `n_rounds` to store the maximum number of rounds to play in a game. \n",
    "Remember that the number of rounds must be odd: 1, 3, 5, ..."
   ]
  },
  {
   "cell_type": "code",
   "execution_count": 3,
   "metadata": {},
   "outputs": [
    {
     "name": "stdout",
     "output_type": "stream",
     "text": [
      "There will be a maximum of 5 rounds\n"
     ]
    }
   ],
   "source": [
    "rounds_choice =random.randrange(10)\n",
    "\n",
    "n_rounds=max([i for i in range(1,rounds_choice) if i % 2 == 1])\n",
    "                                  \n",
    "print(\"There will be a maximum of\", n_rounds,\"rounds\")"
   ]
  },
  {
   "cell_type": "markdown",
   "metadata": {},
   "source": [
    "#### 4. Create a variable called `rounds_to_win` to store the number of rounds that a player must win to win the game.\n",
    "**Hint**: the value stored in `rounds_to_win` depends on the value of `n_rounds`. "
   ]
  },
  {
   "cell_type": "code",
   "execution_count": 4,
   "metadata": {},
   "outputs": [
    {
     "name": "stdout",
     "output_type": "stream",
     "text": [
      "3\n"
     ]
    }
   ],
   "source": [
    "rounds_to_win=((n_rounds)/2)+1\n",
    "print(int(rounds_to_win))"
   ]
  },
  {
   "cell_type": "markdown",
   "metadata": {},
   "source": [
    "#### 5. Create two variables to store the number of rounds that the computer and the player have won. Call these variables `cpu_score` and `player_score`."
   ]
  },
  {
   "cell_type": "code",
   "execution_count": 5,
   "metadata": {},
   "outputs": [],
   "source": [
    "cpu_score=0\n",
    "player_score=0"
   ]
  },
  {
   "cell_type": "markdown",
   "metadata": {},
   "source": [
    "#### 6. Define a function that randomly returns one of the 3 gesture options.\n",
    "You will use this function to simulate the gesture choice of the computer. "
   ]
  },
  {
   "cell_type": "code",
   "execution_count": 6,
   "metadata": {},
   "outputs": [],
   "source": [
    "options=random.choice(gestures)"
   ]
  },
  {
   "cell_type": "markdown",
   "metadata": {},
   "source": [
    "#### 7. Define a function that asks the player which is the gesture he or she wants to show: 'rock', 'paper' or 'scissors'.\n",
    "The player should only be allowed to choose one of the 3 gesture options. If the player's choice is not rock, paper or scissors, keep asking until it is."
   ]
  },
  {
   "cell_type": "code",
   "execution_count": 7,
   "metadata": {},
   "outputs": [
    {
     "name": "stdout",
     "output_type": "stream",
     "text": [
      "Enter the gesture you want to show:rock\n"
     ]
    }
   ],
   "source": [
    "gestures = [\"rock\",\"paper\",\"scissors\"]\n",
    "\n",
    "while True:\n",
    "    choice = input(\"Enter the gesture you want to show:\")\n",
    "\n",
    "    if choice in gestures:\n",
    "        break"
   ]
  },
  {
   "cell_type": "markdown",
   "metadata": {},
   "source": [
    "#### 8. Define a function that checks who won a round. \n",
    "The function should return 0 if there is a tie, 1 if the computer wins and 2 if the player wins."
   ]
  },
  {
   "cell_type": "code",
   "execution_count": 8,
   "metadata": {},
   "outputs": [
    {
     "data": {
      "text/plain": [
       "2"
      ]
     },
     "execution_count": 8,
     "metadata": {},
     "output_type": "execute_result"
    }
   ],
   "source": [
    "#create 2 variables representing what each player has played\n",
    "option_cpu=random.choice(gestures)\n",
    "option_player=choice\n",
    "\n",
    "def whowon():\n",
    "    if option_cpu =='rock':\n",
    "        if option_player=='rock':return(0) \n",
    "        elif option_player=='paper':return(2)\n",
    "        else : return(1)\n",
    "    elif option_cpu =='paper':\n",
    "        if option_player=='rock':return(1)\n",
    "        elif option_player=='paper':return(0)\n",
    "        else : return(2)\n",
    "    elif option_cpu =='scissors':\n",
    "        if option_player=='rock':return(2)\n",
    "        elif option_player=='paper':return(1)\n",
    "        else : return(0)\n",
    "whowon()"
   ]
  },
  {
   "cell_type": "markdown",
   "metadata": {},
   "source": [
    "#### 9. Define a function that prints the choice of the computer, the choice of the player and a message that announces who won the current round. \n",
    "You should also use this function to update the variables that count the number of rounds that the computer and the player have won. The score of the winner increases by one point. If there is a tie, the score does not increase."
   ]
  },
  {
   "cell_type": "code",
   "execution_count": 9,
   "metadata": {},
   "outputs": [
    {
     "name": "stdout",
     "output_type": "stream",
     "text": [
      "CPU has chosen scissors and the player has chosen rock\n",
      "Player has won\n",
      "Player score is 1\n",
      "CPU score is 0\n"
     ]
    }
   ],
   "source": [
    "def game_begin():\n",
    "    print(\"CPU has chosen\",option_cpu,\"and the player has chosen\", option_player)\n",
    "    if whowon()==1:\n",
    "        global cpu_score\n",
    "        cpu_score+=1\n",
    "        return print(\"CPU has won\")\n",
    "    elif whowon()==2:\n",
    "        global player_score\n",
    "        player_score+=1\n",
    "        return print(\"Player has won\")\n",
    "    else:\n",
    "        return print(\"This is a tie\")\n",
    "\n",
    "game_begin()\n",
    "print(\"Player score is\",player_score)\n",
    "print(\"CPU score is\",cpu_score)"
   ]
  },
  {
   "cell_type": "markdown",
   "metadata": {},
   "source": [
    "#### 10. Now it's time to code the execution of the game using the functions and variables you defined above. \n",
    "\n",
    "First, create a loop structure that repeats while no player reaches the minimum score necessary to win and the number of rounds is less than the maximum number of rounds to play in a game.  \n",
    "\n",
    "Inside the loop, use the functions and variables above to create the execution of a round: ask for the player's choice, generate the random choice of the computer, show the round results, update the scores, etc. "
   ]
  },
  {
   "cell_type": "code",
   "execution_count": 10,
   "metadata": {},
   "outputs": [
    {
     "name": "stdout",
     "output_type": "stream",
     "text": [
      "Enter the gesture you want to show:paper\n",
      "CPU has chosen scissors and the player has chosen paper\n",
      "CPU has won\n",
      "Player score is 1\n",
      "CPU score is 1\n",
      "Enter the gesture you want to show:rock\n",
      "CPU has chosen scissors and the player has chosen rock\n",
      "Player has won\n",
      "Player score is 2\n",
      "CPU score is 1\n",
      "Enter the gesture you want to show:paper\n",
      "CPU has chosen rock and the player has chosen paper\n",
      "Player has won\n",
      "Player score is 3\n",
      "CPU score is 1\n",
      "Enter the gesture you want to show:paper\n",
      "CPU has chosen rock and the player has chosen paper\n",
      "Player has won\n",
      "Player score is 4\n",
      "CPU score is 1\n",
      "CPU final score is 1\n",
      "Player final score is 4\n",
      "There has been a total of 4 rounds\n"
     ]
    }
   ],
   "source": [
    "roundnumber=0\n",
    "gestures = [\"rock\",\"paper\",\"scissors\"]\n",
    "\n",
    "while True:\n",
    "    \n",
    "    if (cpu_score>=rounds_to_win)|(player_score>=rounds_to_win)|(roundnumber==n_rounds):\n",
    "        print(\"CPU final score is\",cpu_score)\n",
    "        print(\"Player final score is\",player_score)\n",
    "        print(\"There has been a total of\",roundnumber,\"rounds\")\n",
    "        break\n",
    "   \n",
    "    else :\n",
    "        while True:\n",
    "            choice = input(\"Enter the gesture you want to show:\")\n",
    "            if choice in gestures:\n",
    "                break  \n",
    "    \n",
    "    option_cpu=random.choice(gestures)\n",
    "    option_player=choice\n",
    "    \n",
    "    def game_begin():\n",
    "        print(\"CPU has chosen\",option_cpu,\"and the player has chosen\", option_player)\n",
    "        if whowon()==1:\n",
    "            global cpu_score\n",
    "            cpu_score+=1\n",
    "            return print(\"CPU has won\")\n",
    "        elif whowon()==2:\n",
    "            global player_score\n",
    "            player_score+=1\n",
    "            return print(\"Player has won\")\n",
    "        else:\n",
    "            return print(\"This is a tie\")\n",
    "\n",
    "    game_begin()\n",
    "    print(\"Player score is\",player_score)\n",
    "    print(\"CPU score is\",cpu_score) \n",
    "    roundnumber+=1"
   ]
  },
  {
   "cell_type": "markdown",
   "metadata": {},
   "source": [
    "#### 11. Print the winner of the game based on who won more rounds.\n",
    "Remember that the game might be tied. "
   ]
  },
  {
   "cell_type": "code",
   "execution_count": 11,
   "metadata": {},
   "outputs": [
    {
     "name": "stdout",
     "output_type": "stream",
     "text": [
      "CPU final score is 1 and player final score is 4\n",
      "Player has won\n"
     ]
    }
   ],
   "source": [
    "print(\"CPU final score is\",cpu_score,\"and player final score is\",player_score)\n",
    "\n",
    "if cpu_score>player_score : print(\"Computer has won\")\n",
    "elif cpu_score<player_score : print(\"Player has won\")\n",
    "else : print(\"This is a tie\")"
   ]
  },
  {
   "cell_type": "markdown",
   "metadata": {},
   "source": [
    "# Bonus: Rock, Paper, Scissors, Lizard & Spock\n",
    "![](images/rpsls.jpg)\n",
    "\n",
    "In this challenge, you need to improve the previous game by adding two new options. To know more about the rules of the improved version of rock, paper, scissors, check this [link](http://www.samkass.com/theories/RPSSL.html). \n",
    "\n",
    "In addition, you will also need to improve how the game interacts with the player: the number of rounds to play, which must be an odd number, will be requested to the user until a valid number is entered. Define a new function to make that request.\n",
    "\n",
    "**Hint**: Try to reuse the code that you already coded in the previous challenge. If your code is efficient, this bonus will only consist of simple modifications to the original game."
   ]
  },
  {
   "cell_type": "code",
   "execution_count": 12,
   "metadata": {},
   "outputs": [
    {
     "name": "stdout",
     "output_type": "stream",
     "text": [
      "Enter the number of rounds you want to play:4\n",
      "Enter the number of rounds you want to play:7\n",
      "7\n",
      "To win the game, a player must win at least 4 rounds\n",
      "Enter the gesture you want to show:rock\n",
      "CPU has chosen rock and the player has chosen rock\n",
      "This is a tie\n",
      "Player score is 0\n",
      "CPU score is 0\n",
      "Enter the gesture you want to show:paper\n",
      "CPU has chosen scissors and the player has chosen paper\n",
      "CPU has won\n",
      "Player score is 0\n",
      "CPU score is 1\n",
      "Enter the gesture you want to show:scissors\n",
      "CPU has chosen scissors and the player has chosen scissors\n",
      "This is a tie\n",
      "Player score is 0\n",
      "CPU score is 1\n",
      "Enter the gesture you want to show:rock\n",
      "CPU has chosen spock and the player has chosen rock\n",
      "CPU has won\n",
      "Player score is 0\n",
      "CPU score is 2\n",
      "Enter the gesture you want to show:paper\n",
      "CPU has chosen rock and the player has chosen paper\n",
      "Player has won\n",
      "Player score is 1\n",
      "CPU score is 2\n",
      "Enter the gesture you want to show:rock\n",
      "CPU has chosen lizard and the player has chosen rock\n",
      "Player has won\n",
      "Player score is 2\n",
      "CPU score is 2\n",
      "Enter the gesture you want to show:lizard\n",
      "CPU has chosen scissors and the player has chosen lizard\n",
      "CPU has won\n",
      "Player score is 2\n",
      "CPU score is 3\n",
      "CPU final score is 3\n",
      "Player final score is 2\n",
      "There has been a total of 7 rounds\n",
      "CPU final score is 3 and player final score is 2\n",
      "Computer has won\n"
     ]
    }
   ],
   "source": [
    "import random\n",
    "gestures=['rock','paper','scissors','lizard','spock']\n",
    "\n",
    "cpu_score=0\n",
    "player_score=0\n",
    "\n",
    "roundnumber=0\n",
    "\n",
    "odd_rounds= ([i for i in range(0,100) if i % 2 == 1])\n",
    "\n",
    "def nb_of_rounds():\n",
    "    while True:\n",
    "        rounds_choice = input(\"Enter the number of rounds you want to play:\")\n",
    "        if int(rounds_choice) in odd_rounds:\n",
    "            return rounds_choice\n",
    "            break\n",
    "\n",
    "number = nb_of_rounds()\n",
    "print(number)\n",
    "\n",
    "rounds_to_win=(int(number)/2)+1\n",
    "print(\"To win the game, a player must win at least\", int(rounds_to_win),\"rounds\")\n",
    "\n",
    "while True:\n",
    "    \n",
    "    if (cpu_score>=rounds_to_win)|(player_score>=rounds_to_win)|(roundnumber==int(number)):\n",
    "        print(\"CPU final score is\",cpu_score)\n",
    "        print(\"Player final score is\",player_score)\n",
    "        print(\"There has been a total of\",roundnumber,\"rounds\")\n",
    "        break\n",
    "   \n",
    "    else :\n",
    "        while True:\n",
    "            choice = input(\"Enter the gesture you want to show:\")\n",
    "            if choice in gestures:\n",
    "                break  \n",
    "    \n",
    "    option_cpu=random.choice(gestures)\n",
    "    option_player=choice\n",
    "    \n",
    "    def whowon():\n",
    "        if option_cpu =='rock':\n",
    "            if (option_player=='rock'):return(0) \n",
    "            elif (option_player=='paper')|(option_player=='spock'):return(2)\n",
    "            else : return(1)\n",
    "        elif option_cpu =='paper':\n",
    "            if (option_player=='rock')|(option_player=='spock'):return(1)\n",
    "            elif option_player=='paper':return(0)\n",
    "            else : return(2)\n",
    "        elif option_cpu =='scissors':\n",
    "            if (option_player=='rock')|(option_player=='spock'):return(2)\n",
    "            elif (option_player=='paper')|(option_player=='lizard'):return(1)\n",
    "            else : return(0)\n",
    "        elif option_cpu =='spock':\n",
    "            if (option_player=='rock')|(option_player=='scissors'):return(1)\n",
    "            elif option_player=='spock':return(0)\n",
    "            else : return(2)\n",
    "        elif option_cpu =='lizard':\n",
    "            if (option_player=='paper')|(option_player=='spock'):return(1)\n",
    "            elif option_player=='lizard':return(0)\n",
    "            else : return(2)\n",
    "            \n",
    "    def game_begin():\n",
    "        print(\"CPU has chosen\",option_cpu,\"and the player has chosen\", option_player)\n",
    "        if whowon()==1:\n",
    "            global cpu_score\n",
    "            cpu_score+=1\n",
    "            return print(\"CPU has won\")\n",
    "        elif whowon()==2:\n",
    "            global player_score\n",
    "            player_score+=1\n",
    "            return print(\"Player has won\")\n",
    "        else:\n",
    "            return print(\"This is a tie\")\n",
    "\n",
    "    game_begin()\n",
    "    print(\"Player score is\",player_score)\n",
    "    print(\"CPU score is\",cpu_score) \n",
    "    roundnumber+=1\n",
    "    \n",
    "print(\"CPU final score is\",cpu_score,\"and player final score is\",player_score)\n",
    "\n",
    "if cpu_score>player_score : print(\"Computer has won\")\n",
    "elif cpu_score<player_score : print(\"Player has won\")\n",
    "elif cpu_score==player_score: print(\"This is a tie\")"
   ]
  }
 ],
 "metadata": {
  "kernelspec": {
   "display_name": "Python 3",
   "language": "python",
   "name": "python3"
  },
  "language_info": {
   "codemirror_mode": {
    "name": "ipython",
    "version": 3
   },
   "file_extension": ".py",
   "mimetype": "text/x-python",
   "name": "python",
   "nbconvert_exporter": "python",
   "pygments_lexer": "ipython3",
   "version": "3.7.6"
  }
 },
 "nbformat": 4,
 "nbformat_minor": 2
}
